{
 "cells": [
  {
   "cell_type": "code",
   "execution_count": null,
   "id": "aa41fddd-db60-4feb-8595-4c541be3fe6e",
   "metadata": {},
   "outputs": [],
   "source": [
    "import os\n",
    "import csv\n",
    "import requests\n",
    "import json"
   ]
  },
  {
   "cell_type": "code",
   "execution_count": null,
   "id": "a28abdf6-fcb6-4a52-b0c8-0243ffaa30d7",
   "metadata": {},
   "outputs": [],
   "source": [
    "def find_movies(directory):\n",
    "    mkv_files = []\n",
    "    for file in os.listdir(directory):\n",
    "        if file.endswith(\".mkv\"):\n",
    "            mkv_files.append(file)\n",
    "    return mkv_files"
   ]
  },
  {
   "cell_type": "code",
   "execution_count": null,
   "id": "c3ac80dd-f23c-4cb2-b7db-6655faa3a770",
   "metadata": {},
   "outputs": [],
   "source": [
    "def convert_file_name_to_movie_name(file):\n",
    "    file = file.replace(\".\", \" \").replace(\"_\", \" \")\n",
    "    quality = file.find(\"1080\")\n",
    "    if quality == -1:\n",
    "        quality = file.find(\"720\")\n",
    "    movie_name = file[:quality].strip()\n",
    "    return movie_name"
   ]
  },
  {
   "cell_type": "code",
   "execution_count": null,
   "id": "afdcd6dd-ef0a-465a-8fb1-fb61a547f79b",
   "metadata": {},
   "outputs": [],
   "source": [
    "def get_score(movie_title):\n",
    "    headers = {\n",
    "        \"User-Agent\": \"Mozilla/5.0 (Macintosh; Intel Mac OS X 10_10_1) AppleWebKit/537.36 (KHTML, like Gecko) Chrome/39.0.2171.95 Safari/537.36\",\n",
    "        \"Accept\": \"*/*\",\n",
    "        \"Accept-Language\": \"en-US,en;q=0.5\",\n",
    "        \"content-type\": \"application/x-www-form-urlencoded\",\n",
    "        \"x-algolia-usertoken\": \"0b5a81489e3d487877b152e172bc283982445c62082df23cfb1de431acdab343\",\n",
    "    }\n",
    "    year = movie_title.split()[-1]\n",
    "    movie_title = \" \".join(movie_title.split()[:-1])\n",
    "    data = {\n",
    "        \"requests\": [\n",
    "            {\n",
    "                \"indexName\": \"content_rt\",\n",
    "                \"query\": movie_title,\n",
    "                \"params\": \"filters=isEmsSearchable%20%3D%201&hitsPerPage=5&analyticsTags=%5B%22header_search%22%5D&clickAnalytics=true\",\n",
    "            }\n",
    "        ]\n",
    "    }\n",
    "    try:\n",
    "        url = \"https://79frdp12pn-3.algolianet.com/1/indexes/*/queries?x-algolia-agent=Algolia%20for%20JavaScript%20(4.23.3)%3B%20Browser%20(lite)&x-algolia-api-key=175588f6e5f8319b27702e4cc4013561&x-algolia-application-id=79FRDP12PN\"\n",
    "        response = requests.post(url, headers=headers, json=data)\n",
    "        response_data = response.json()\n",
    "\n",
    "        movie_info = response_data[\"results\"][0][\"hits\"]\n",
    "        movie_info = list(\n",
    "            filter(lambda x: str(x.get(\"releaseYear\")) == year, movie_info)\n",
    "        )\n",
    "        movie_info = movie_info[0] if movie_info else {}\n",
    "        print(f\"Found Movie: {movie_info.get('title')} {year} ✨\")\n",
    "        rotten_tomatoes_scores = movie_info.get(\"rottenTomatoes\", {})\n",
    "        audience_score = rotten_tomatoes_scores.get(\"audienceScore\")\n",
    "        critics_score = rotten_tomatoes_scores.get(\"criticsScore\")\n",
    "        return audience_score, critics_score\n",
    "    except (KeyError, IndexError):\n",
    "        print(\"No movie found with the provided title.\")\n",
    "        return None, None\n",
    "\n",
    "\n",
    "# Example usage:\n",
    "audience_score, critics_score = get_score(\"chef 2014\")\n",
    "if audience_score is not None and critics_score is not None:\n",
    "    print(\"Audience Score:\", audience_score)\n",
    "    print(\"Critics Score:\", critics_score)"
   ]
  },
  {
   "cell_type": "code",
   "execution_count": null,
   "id": "d8bf8fa8",
   "metadata": {},
   "outputs": [],
   "source": [
    "def marking_movies(file_path):\n",
    "    new_data = []\n",
    "    with open(file_path, \"r\") as csvfile:\n",
    "        csv_reader = csv.reader(csvfile)\n",
    "        header = next(csv_reader)\n",
    "        header.append(\"Remove\") \n",
    "        new_data.append(header) \n",
    "\n",
    "        # Process each row in the CSV file\n",
    "        for movie in csv_reader:\n",
    "            critics_score = int(movie[2]) if movie[2] else 51\n",
    "            audience_score = int(movie[3]) if movie[3] else 61\n",
    "            \n",
    "            # Add \"yes\" or \"no\" based on conditions\n",
    "            if critics_score <= 50 and audience_score <= 60:\n",
    "                movie.append(\"yes\")\n",
    "            else:\n",
    "                movie.append(\"no\")\n",
    "            new_data.append(movie)\n",
    "\n",
    "    # Write the modified data back to the CSV file\n",
    "    with open(file_path, \"w\", newline='') as csvfile:\n",
    "        csvwriter = csv.writer(csvfile)\n",
    "        csvwriter.writerows(new_data)\n",
    "\n",
    "    return new_data"
   ]
  },
  {
   "cell_type": "code",
   "execution_count": null,
   "id": "2904beec-5a0a-4e4a-933f-54c75c1e4bb0",
   "metadata": {},
   "outputs": [],
   "source": [
    "def write_to_csv(file_list, output_file):\n",
    "    with open(output_file, \"w\", newline=\"\", encoding=\"utf-8\") as csvfile:\n",
    "        writer = csv.writer(csvfile)\n",
    "        writer.writerow(\n",
    "            [\n",
    "                \"File Name (MKV)\",\n",
    "                \"Movie Name\",\n",
    "                \"Tomatometer Score\",\n",
    "                \"Audience Score\",\n",
    "            ]\n",
    "        )\n",
    "        for file in file_list:\n",
    "            movie_name = convert_file_name_to_movie_name(file)\n",
    "            audience_score, critics_score = get_score(movie_name)\n",
    "            writer.writerow([file, movie_name, critics_score, audience_score])"
   ]
  },
  {
   "cell_type": "code",
   "execution_count": null,
   "id": "1cd203f3",
   "metadata": {},
   "outputs": [],
   "source": [
    "def remove_movies(input_directory,file_path):\n",
    "    file_path=\"output.csv\"\n",
    "    files_to_remove = []\n",
    "\n",
    "    # Open the CSV file in read mode\n",
    "    with open(file_path, \"r\") as csvfile:\n",
    "        csv_reader = csv.reader(csvfile)\n",
    "        header = next(csv_reader)\n",
    "        for row in csv_reader:\n",
    "            if row[4] == \"yes\":\n",
    "                files_to_remove.append(row[0])\n",
    "    print(f\"{len(files_to_remove)} Movies going to remove 🌌\")\n",
    "\n",
    "    # Remove files from the hard drive\n",
    "    for file_name in files_to_remove:\n",
    "        file_name=os.path.join(input_directory,file_name)\n",
    "        if os.path.exists(file_name):\n",
    "            os.remove(file_name)\n",
    "            print(f\"File '{file_name}' removed successfully.\")\n",
    "        else:\n",
    "            print(f\"File '{file_name}' does not exist.\")"
   ]
  },
  {
   "cell_type": "code",
   "execution_count": null,
   "id": "5bc1d724-4a95-4f6a-99c5-082eaffb82da",
   "metadata": {},
   "outputs": [],
   "source": [
    "input_directory = input(\"path to the desired directory: \")\n",
    "output_csv_file = \"output.csv\"\n",
    "\n",
    "mkv_files = find_movies(input_directory)\n",
    "write_to_csv(mkv_files, output_csv_file)\n",
    "print(f\"{len(mkv_files)} found mkv files have been saved to the CSV file.\")\n",
    "marking_movies(output_csv_file)\n",
    "remove_movies(input_directory,output_csv_file)\n"
   ]
  }
 ],
 "metadata": {
  "kernelspec": {
   "display_name": "Python 3 (ipykernel)",
   "language": "python",
   "name": "python3"
  },
  "language_info": {
   "codemirror_mode": {
    "name": "ipython",
    "version": 3
   },
   "file_extension": ".py",
   "mimetype": "text/x-python",
   "name": "python",
   "nbconvert_exporter": "python",
   "pygments_lexer": "ipython3",
   "version": "3.11.6"
  }
 },
 "nbformat": 4,
 "nbformat_minor": 5
}
